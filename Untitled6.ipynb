{
  "nbformat": 4,
  "nbformat_minor": 0,
  "metadata": {
    "colab": {
      "provenance": [],
      "authorship_tag": "ABX9TyPyDn64kemi3vAevdhqaQ02",
      "include_colab_link": true
    },
    "kernelspec": {
      "name": "python3",
      "display_name": "Python 3"
    },
    "language_info": {
      "name": "python"
    }
  },
  "cells": [
    {
      "cell_type": "markdown",
      "metadata": {
        "id": "view-in-github",
        "colab_type": "text"
      },
      "source": [
        "<a href=\"https://colab.research.google.com/github/S-indhu/weather-app/blob/main/Untitled6.ipynb\" target=\"_parent\"><img src=\"https://colab.research.google.com/assets/colab-badge.svg\" alt=\"Open In Colab\"/></a>"
      ]
    },
    {
      "cell_type": "code",
      "execution_count": null,
      "metadata": {
        "id": "Rs-DvvHTFicT"
      },
      "outputs": [],
      "source": [
        "!pip install flask-ngrok\n"
      ]
    },
    {
      "cell_type": "code",
      "source": [
        "# Install necessary packages\n",
        "!pip install Flask flask-ngrok requests\n",
        "\n",
        "from flask import Flask, render_template, request\n",
        "import requests\n",
        "import os\n",
        "\n",
        "app = Flask(__name__)\n",
        "\n",
        "# Replace 'your_api_key' with your actual OpenWeatherMap API key\n",
        "API_KEY = 'your_api_key'  # You need to get your own API key from OpenWeatherMap\n",
        "\n",
        "@app.route('/')\n",
        "def home():\n",
        "    return render_template('index.html')\n",
        "\n",
        "@app.route('/weather', methods=['POST'])\n",
        "def weather():\n",
        "    city = request.form.get('city')\n",
        "    url = f'http://api.openweathermap.org/data/2.5/weather?q={city}&appid={API_KEY}&units=metric'\n",
        "    response = requests.get(url)\n",
        "    data = response.json()\n",
        "\n",
        "    if response.status_code == 200:\n",
        "        weather_info = {\n",
        "            'city': data['name'],\n",
        "            'temperature': data['main']['temp'],\n",
        "            'humidity': data['main']['humidity'],\n",
        "            'description': data['weather'][0]['description']\n",
        "        }\n",
        "        return render_template('weather.html', weather=weather )"
      ],
      "metadata": {
        "colab": {
          "base_uri": "https://localhost:8080/"
        },
        "id": "SQ116YPXFj_V",
        "outputId": "ab12f382-fd35-4cf3-b62a-b17ee2aab6ab"
      },
      "execution_count": 4,
      
